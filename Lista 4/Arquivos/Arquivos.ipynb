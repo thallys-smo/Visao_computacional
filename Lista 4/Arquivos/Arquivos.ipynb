{
 "cells": [
  {
   "cell_type": "code",
   "execution_count": null,
   "metadata": {},
   "outputs": [],
   "source": [
    "import urllib.request\n",
    "\n",
    "\n",
    "try:\n",
    "  urllib.request.urlretrieve(\"https://github.com/LAVI-USP/SEL0339-SEL5886_2023/raw/main/imagens/pratica_04/wirebond_mask.tif\", \"wirebond_mask.tif\")\n",
    "except:\n",
    "  print(\"[ERRO] Não foi possível fazer o download das imagens dessa prática. Entre em contato com o monitor\")\n",
    "\n",
    "try:\n",
    "  urllib.request.urlretrieve(\"https://github.com/LAVI-USP/SEL0339-SEL5886_2023/raw/main/imagens/pratica_04/house.tif\", \"house.tif\")\n",
    "except:\n",
    "  print(\"[ERRO] Não foi possível fazer o download das imagens dessa prática. Entre em contato com o monitor\")\n",
    "\n",
    "try:\n",
    "  urllib.request.urlretrieve(\"https://github.com/LAVI-USP/SEL0339-SEL5886_2023/raw/main/imagens/pratica_04/abobora.tif\", \"abobora.tif\")\n",
    "except:\n",
    "  print(\"[ERRO] Não foi possível fazer o download das imagens dessa prática. Entre em contato com o monitor\")\n",
    "\n",
    "try:\n",
    "  urllib.request.urlretrieve(\"https://github.com/LAVI-USP/SEL0339-SEL5886_2023/raw/main/imagens/pratica_04/sudoku.tif\", \"sudoku.tif\")\n",
    "except:\n",
    "  print(\"[ERRO] Não foi possível fazer o download das imagens dessa prática. Entre em contato com o monitor\")\n",
    "\n",
    "\n",
    "try:\n",
    "  urllib.request.urlretrieve(\"https://github.com/LAVI-USP/SEL0339-SEL5886_2023/raw/main/imagens/pratica_04/cores.jpeg\", \"cores.jpeg\")\n",
    "except:\n",
    "  print(\"[ERRO] Não foi possível fazer o download das imagens dessa prática. Entre em contato com o monitor\")\n",
    "\n",
    "\n"
   ]
  }
 ],
 "metadata": {
  "kernelspec": {
   "display_name": "Python 3",
   "language": "python",
   "name": "python3"
  },
  "language_info": {
   "name": "python",
   "version": "3.8.10"
  },
  "orig_nbformat": 4
 },
 "nbformat": 4,
 "nbformat_minor": 2
}
