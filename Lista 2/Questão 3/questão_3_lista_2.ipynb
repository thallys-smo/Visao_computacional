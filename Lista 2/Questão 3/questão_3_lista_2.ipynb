{
 "cells": [
  {
   "cell_type": "markdown",
   "metadata": {},
   "source": [
    "## Thallys Oliveira - Questão 3 - Lista 2"
   ]
  },
  {
   "cell_type": "code",
   "execution_count": 6,
   "metadata": {},
   "outputs": [],
   "source": [
    "# Importanto Bibliotecas \n",
    "\n",
    "import cv2 as cv\n",
    "import numpy as np\n",
    "from matplotlib import pyplot as plt\n",
    "import os"
   ]
  },
  {
   "cell_type": "markdown",
   "metadata": {},
   "source": [
    "Filtro passa-baixa."
   ]
  },
  {
   "cell_type": "markdown",
   "metadata": {},
   "source": [
    "1. Carregue a imagem rgb_blocks_ruidosa.bmp. Ela é uma imagem colorida que foi degrada com ruído Gaussiano. "
   ]
  },
  {
   "cell_type": "code",
   "execution_count": 7,
   "metadata": {},
   "outputs": [],
   "source": [
    "local_img_bpm = '/home/thallys/Documentos/Graduação/Visão Computacional/Visao_computacional/Lista 2/Arquivos/rgb_blocks_ruidosa.bmp'\n",
    "\n",
    "# Lendo a imagem borboleta.bmp\n",
    "img_blocks_ruido = cv.imread(local_img_bpm)\n",
    "\n",
    "# Convertendo a imagem borboleta.bpm para RGB\n",
    "img_blocks_ruido = cv.cvtColor(img_blocks_ruido, cv.COLOR_BGR2RGB)"
   ]
  },
  {
   "cell_type": "markdown",
   "metadata": {},
   "source": [
    "2. Filtre a imagem com o filtro da média de kernel 7x7 utilizando a função cv.blur()."
   ]
  },
  {
   "cell_type": "code",
   "execution_count": 8,
   "metadata": {},
   "outputs": [],
   "source": [
    "img_blocks_filtrada = cv.blur(img_blocks_ruido,(7,7))\n"
   ]
  }
 ],
 "metadata": {
  "kernelspec": {
   "display_name": "Python 3",
   "language": "python",
   "name": "python3"
  },
  "language_info": {
   "codemirror_mode": {
    "name": "ipython",
    "version": 3
   },
   "file_extension": ".py",
   "mimetype": "text/x-python",
   "name": "python",
   "nbconvert_exporter": "python",
   "pygments_lexer": "ipython3",
   "version": "3.8.10"
  },
  "orig_nbformat": 4
 },
 "nbformat": 4,
 "nbformat_minor": 2
}
