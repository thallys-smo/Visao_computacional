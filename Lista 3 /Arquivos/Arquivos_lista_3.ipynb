{
 "cells": [
  {
   "cell_type": "markdown",
   "metadata": {},
   "source": [
    "# Thallys Oliveira - 11819827"
   ]
  },
  {
   "cell_type": "code",
   "execution_count": 2,
   "metadata": {},
   "outputs": [],
   "source": [
    "import numpy as np\n",
    "import matplotlib.pyplot as plt\n",
    "import cv2 as cv"
   ]
  },
  {
   "cell_type": "code",
   "execution_count": 3,
   "metadata": {},
   "outputs": [],
   "source": [
    "import urllib.request\n",
    "\n",
    "try:\n",
    "  urllib.request.urlretrieve(\"https://github.com/LAVI-USP/SEL0339-SEL5886_2023/raw/main/imagens/pratica_03/A.png\", \"A.png\")\n",
    "except:\n",
    "  print(\"[ERRO] Não foi possível fazer o download das imagens dessa prática. Entre em contato com o monitor\")\n",
    "\n",
    "try:\n",
    "  urllib.request.urlretrieve(\"https://github.com/LAVI-USP/SEL0339-SEL5886_2023/raw/main/imagens/pratica_03/B.png\", \"B.png\")\n",
    "except:\n",
    "  print(\"[ERRO] Não foi possível fazer o download das imagens dessa prática. Entre em contato com o monitor\")\n",
    "\n",
    "try:\n",
    "  urllib.request.urlretrieve(\"https://github.com/LAVI-USP/SEL0339-SEL5886_2023/raw/main/imagens/pratica_03/coins.jpg\", \"coins.jpg\")\n",
    "except:\n",
    "  print(\"[ERRO] Não foi possível fazer o download das imagens dessa prática. Entre em contato com o monitor\")\n",
    "\n",
    "try:\n",
    "  urllib.request.urlretrieve(\"https://github.com/LAVI-USP/SEL0339-SEL5886_2023/raw/main/imagens/pratica_03/shapes.png\", \"shapes.png\")\n",
    "except:\n",
    "  print(\"[ERRO] Não foi possível fazer o download das imagens dessa prática. Entre em contato com o monitor\")\n",
    "\n",
    "\n",
    "try:\n",
    "  urllib.request.urlretrieve(\"https://github.com/LAVI-USP/SEL0339-SEL5886_2023/raw/main/imagens/pratica_03/shapes_resultado.png\", \"shapes_resultado.png\")\n",
    "except:\n",
    "  print(\"[ERRO] Não foi possível fazer o download das imagens dessa prática. Entre em contato com o monitor\")\n",
    "\n",
    "try:\n",
    "  urllib.request.urlretrieve(\"https://github.com/LAVI-USP/SEL0339-SEL5886_2023/raw/main/imagens/pratica_03/texto.png\", \"texto.png\")\n",
    "except:\n",
    "  print(\"[ERRO] Não foi possível fazer o download das imagens dessa prática. Entre em contato com o monitor\")\n",
    "\n",
    "try:\n",
    "  urllib.request.urlretrieve(\"https://github.com/LAVI-USP/SEL0339-SEL5886_2023/raw/main/imagens/pratica_03/elefante.tif\", \"elefante.tif\")\n",
    "except:\n",
    "  print(\"[ERRO] Não foi possível fazer o download das imagens dessa prática. Entre em contato com o monitor\")\n",
    "\n",
    "try:\n",
    "  urllib.request.urlretrieve(\"https://github.com/LAVI-USP/SEL0339-SEL5886_2023/raw/main/imagens/pratica_03/card1.jpg\", \"card1.jpg\")\n",
    "except:\n",
    "  print(\"[ERRO] Não foi possível fazer o download das imagens dessa prática. Entre em contato com o monitor\")\n",
    "\n",
    "try:\n",
    "  urllib.request.urlretrieve(\"https://github.com/LAVI-USP/SEL0339-SEL5886_2023/raw/main/imagens/pratica_03/card2.png\", \"card2.png\")\n",
    "except:\n",
    "  print(\"[ERRO] Não foi possível fazer o download das imagens dessa prática. Entre em contato com o monitor\")\n",
    "\n",
    "try:\n",
    "  urllib.request.urlretrieve(\"https://github.com/LAVI-USP/SEL0339-SEL5886_2023/raw/main/imagens/pratica_03/card3.png\", \"card3.png\")\n",
    "except:\n",
    "  print(\"[ERRO] Não foi possível fazer o download das imagens dessa prática. Entre em contato com o monitor\")\n",
    "\n",
    "try:\n",
    "  urllib.request.urlretrieve(\"https://github.com/LAVI-USP/SEL0339-SEL5886_2023/raw/main/imagens/pratica_03/card4.jpg\", \"card4.jpg\")\n",
    "except:\n",
    "  print(\"[ERRO] Não foi possível fazer o download das imagens dessa prática. Entre em contato com o monitor\")\n",
    "\n",
    "try:\n",
    "  urllib.request.urlretrieve(\"https://github.com/LAVI-USP/SEL0339-SEL5886_2023/raw/main/imagens/pratica_03/ocr_a_reference.png\", \"ocr_a_reference.png\")\n",
    "except:\n",
    "  print(\"[ERRO] Não foi possível fazer o download das imagens dessa prática. Entre em contato com o monitor\")\n",
    "\n",
    "try:\n",
    "  urllib.request.urlretrieve(\"https://github.com/LAVI-USP/SEL0339-SEL5886_2023/raw/main/imagens/pratica_03/ocr_functions.py\", \"ocr_functions.py\")\n",
    "except:\n",
    "  print(\"[ERRO] Não foi possível fazer o download das imagens dessa prática. Entre em contato com o monitor\")\n"
   ]
  }
 ],
 "metadata": {
  "kernelspec": {
   "display_name": "Python 3",
   "language": "python",
   "name": "python3"
  },
  "language_info": {
   "codemirror_mode": {
    "name": "ipython",
    "version": 3
   },
   "file_extension": ".py",
   "mimetype": "text/x-python",
   "name": "python",
   "nbconvert_exporter": "python",
   "pygments_lexer": "ipython3",
   "version": "3.8.10"
  },
  "orig_nbformat": 4
 },
 "nbformat": 4,
 "nbformat_minor": 2
}
